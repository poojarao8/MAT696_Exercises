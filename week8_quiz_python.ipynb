{
 "cells": [
  {
   "cell_type": "markdown",
   "metadata": {},
   "source": [
    "1) Which of the following is not true about Python?\n",
    "\n",
    "    a. it's an interpreted language\n",
    "\n",
    "    b. it's a compiled language\n",
    "    \n",
    "    c. it's an object-oriented language"
   ]
  },
  {
   "cell_type": "markdown",
   "metadata": {},
   "source": [
    "2) Name some of the in-built data structures in Python."
   ]
  },
  {
   "cell_type": "markdown",
   "metadata": {},
   "source": [
    "3) Which one is true about classes in Python:\n",
    "    \n",
    "    a. it's not possible to program in Python without having them in your program. \n",
    "\n",
    "    b. they are a type of user-defined functions.\n",
    "\n",
    "    c. they are user-defined data structures."
   ]
  },
  {
   "cell_type": "markdown",
   "metadata": {},
   "source": [
    "4) What is the differece between dir() and help() functions?\n"
   ]
  },
  {
   "cell_type": "markdown",
   "metadata": {},
   "source": [
    "5) What is the common use of keyword \"pass\" in Python?    "
   ]
  },
  {
   "cell_type": "markdown",
   "metadata": {},
   "source": [
    "6) What is the use of word \"self\" in the definition of Python classes? Is it a keyword?\n"
   ]
  },
  {
   "cell_type": "markdown",
   "metadata": {},
   "source": [
    "7) What do the following commands do?\n",
    "\n",
    "    a. numpy.random.random(3)\n",
    "\n",
    "    b. numpy.random.random((3,2))\n",
    "\n",
    "    c. numpy.random.ranint(3,30)"
   ]
  },
  {
   "cell_type": "markdown",
   "metadata": {},
   "source": [
    "8) What is \"==\" used for?\n",
    "\n"
   ]
  },
  {
   "cell_type": "markdown",
   "metadata": {},
   "source": [
    "9) What is the output of the following?\n",
    "\n",
    "    a. print (range(3,8))\n",
    "    \n",
    "    b. print (list(range(3,8)))\n",
    "    \n",
    "    c. numpy.linspace(0,1,11)"
   ]
  },
  {
   "cell_type": "markdown",
   "metadata": {},
   "source": [
    "10) What three packages is pylab a common namespace for?\n",
    "\n",
    "    a. matplotlib, numpy, scipy\n",
    "    \n",
    "    b. numpy, scipy, pandas\n",
    "    \n",
    "    c. numpy, scipy, sympy"
   ]
  },
  {
   "cell_type": "markdown",
   "metadata": {},
   "source": [
    "11) An object is another name for ......?\n",
    "\n",
    "    a. a class\n",
    "    \n",
    "    b. an instance of a class\n",
    "    \n",
    "    c. an instance method"
   ]
  },
  {
   "cell_type": "markdown",
   "metadata": {},
   "source": [
    "12) What is the name of the method in a class that is used to initialize an object of a class?"
   ]
  },
  {
   "cell_type": "markdown",
   "metadata": {},
   "source": [
    "13) What is the difference between numpy arrays and a list? Try the following code:\n",
    "    \n",
    "    import numpy as np\n",
    "    \n",
    "    a_list = [1, 2, 3, 4]\n",
    "    a_np_arr = np.array([1,2,3,4])\n",
    "    \n",
    "    print (a_list + a_list)\n",
    "    print (a_np_arr + a_np_arr)\n",
    "    "
   ]
  },
  {
   "cell_type": "markdown",
   "metadata": {},
   "source": [
    "14) What do the following operators do on numbers, a and b?\n",
    "\n",
    "        a. a/b\n",
    "    \n",
    "        b. a//b\n",
    "        \n",
    "        c. a%b"
   ]
  },
  {
   "cell_type": "markdown",
   "metadata": {},
   "source": [
    "15) What type of inheritance is shown in the following code:\n",
    "\n",
    "       def Programmers():\n",
    "           pass\n",
    "           \n",
    "       def Mathematicians():\n",
    "           pass\n",
    "          \n",
    "       def ComputationalScientist(Programmers, Mathematicians):\n",
    "           pass\n",
    "           \n",
    "       a. Single inheritance\n",
    "       b. Multiple inheritance\n",
    "    "
   ]
  },
  {
   "cell_type": "code",
   "execution_count": 1,
   "metadata": {},
   "outputs": [],
   "source": [
    "# 16) Uncomment the statements below to see what the code does. Why doesn't the last print statement work?\n",
    "\n",
    "class Car():\n",
    "\n",
    "    def __init__(self, make, mileage, year):\n",
    "        self.make = make\n",
    "        self._year = year\n",
    "        self.__mileage = mileage  # name mangling in Python    \n",
    "\n",
    "    def cal_price(self):\n",
    "        print \"Let's calculate price.\"\n",
    "            \n",
    "car1 = Car(\"Toyota Camry\", 50000, 2016) \n",
    "\n",
    "# Try the following \n",
    "#print (car1.make)\n",
    "#print (car1._year)\n",
    "#print (car1.__mileage)"
   ]
  },
  {
   "cell_type": "code",
   "execution_count": 41,
   "metadata": {},
   "outputs": [
    {
     "name": "stdout",
     "output_type": "stream",
     "text": [
      "Let's calculate price for an electric car.\n"
     ]
    }
   ],
   "source": [
    "# 17a)What is the output of the following code?\n",
    "# 17b)what function are we over-riding in child class?\n",
    "\n",
    "class Car():\n",
    "\n",
    "    def __init__(self, make, mileage, year):\n",
    "        self.make = make\n",
    "        self._year = year\n",
    "        self.__mileage = mileage  # name mangling in Python    \n",
    "\n",
    "    def cal_price(self):\n",
    "        print \"Let's calculate price.\"\n",
    "\n",
    "class ElectricCar(Car):\n",
    "    \n",
    "    def cal_price(self):\n",
    "        print \"Let's calculate price for an electric car.\"\n",
    "        \n",
    "ecar1 = ElectricCar(\"Tesla\", 5000, 2018)\n",
    "ecar1.cal_price()"
   ]
  },
  {
   "cell_type": "markdown",
   "metadata": {},
   "source": [
    "18) What is the difference between encapsulation and abstraction?"
   ]
  },
  {
   "cell_type": "markdown",
   "metadata": {},
   "source": [
    "19) What do you understand by code reusability? Does it refer to using the code outside of its original context with minimal or no changes?\n"
   ]
  },
  {
   "cell_type": "code",
   "execution_count": 14,
   "metadata": {},
   "outputs": [],
   "source": [
    "#20a) What are decorators in Python?\n",
    "\n",
    "#20b) Use decorators to create a class method and a static method in the following class?\n",
    "     #You can use the \"pass\" keyword for their functionality.\n",
    "\n",
    "class Car():\n",
    "\n",
    "    def __init__(self, make, mileage, year):\n",
    "        self.make = make\n",
    "        self._year = year\n",
    "        self.__mileage = mileage  # name mangling in Python    \n",
    "        \n",
    "    def instance_method(self):\n",
    "        # object (self) is needed as argument\n",
    "        print \"I am an instance method.\"\n",
    "    \n",
    "    # make this a class method, takes in cls as argument\n",
    "    @classmethod\n",
    "    def class_method(cls):\n",
    "        # class (cls) is needed as an argument\n",
    "        print \"I am a class method.\"      \n",
    "    \n",
    "     # make this a static method\n",
    "    @staticmethod    \n",
    "    def static_method():\n",
    "        # does not need object or class as an argument\n",
    "        print \"I am a static method.\"         "
   ]
  },
  {
   "cell_type": "code",
   "execution_count": null,
   "metadata": {},
   "outputs": [],
   "source": []
  }
 ],
 "metadata": {
  "kernelspec": {
   "display_name": "Python 2",
   "language": "python",
   "name": "python2"
  },
  "language_info": {
   "codemirror_mode": {
    "name": "ipython",
    "version": 2
   },
   "file_extension": ".py",
   "mimetype": "text/x-python",
   "name": "python",
   "nbconvert_exporter": "python",
   "pygments_lexer": "ipython2",
   "version": "2.7.14"
  }
 },
 "nbformat": 4,
 "nbformat_minor": 2
}
