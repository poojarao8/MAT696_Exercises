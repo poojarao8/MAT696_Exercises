{
 "cells": [
  {
   "cell_type": "markdown",
   "metadata": {},
   "source": [
    "## What are classes?\n",
    "\n",
    "### Sometimes the in-built data structures provided by the programming language are not the most convenient way to represent and manipulate the data. In that case, we may need more customized data structures. \n",
    "\n",
    "### Classes are user defined data structures that are constructed to suit the needs of a particular problem. They form the backbone of the object oriented programming (more to come later on OOP!). \n",
    "\n",
    "### Basically, OOP is an alterantive way to structure your program. In this paradigm, the focus while writing the program is on an object, which has some data and functionality associated with it. \n",
    "\n",
    "### Similar objects can be grouped together to form a class. Objects that are grouped together in a class share some characteristics or features (\"attributes\") and functionality (\"methods\")."
   ]
  },
  {
   "cell_type": "code",
   "execution_count": 8,
   "metadata": {},
   "outputs": [],
   "source": [
    "# Example of a class\n",
    "class Particles:\n",
    "    \"\"\" This class does nothing.\"\"\"\n",
    "    pass"
   ]
  },
  {
   "cell_type": "markdown",
   "metadata": {},
   "source": [
    "###### Naming convention for Python classes is UpperCamelCase. \n",
    "Do you remember the naming convention for the variables and functions in Python?"
   ]
  },
  {
   "cell_type": "markdown",
   "metadata": {},
   "source": [
    "## What is an instance of a class?\n",
    "\n",
    "Think of class as being a template or a blueprint of something, and think of instantiation as a specific case (instance) of that class.\n",
    "\n",
    "For e.g. a Mathjobs' profile is a template or a class in which you are supposed to fill out your details in various fields. After you have filled it out, that becomes an instance of the class.\n",
    "\n",
    "Another name for the instance of a class is \"class object\"."
   ]
  },
  {
   "cell_type": "markdown",
   "metadata": {},
   "source": [
    "## How do I Instantiate a class?"
   ]
  },
  {
   "cell_type": "code",
   "execution_count": 3,
   "metadata": {},
   "outputs": [],
   "source": [
    "particle_0 = Particles() # instance/object of the class Particles\n",
    "particle_1 = Particles() # another instance/object of the class Particles"
   ]
  },
  {
   "cell_type": "markdown",
   "metadata": {},
   "source": [
    "## Exercise 1\n",
    "\n",
    "##### 1a) Create a class which does nothing.\n",
    "\n",
    "##### 1b) Create an instance of the class."
   ]
  },
  {
   "cell_type": "code",
   "execution_count": null,
   "metadata": {},
   "outputs": [],
   "source": [
    "# Put your code for Exercise 1 here."
   ]
  },
  {
   "cell_type": "markdown",
   "metadata": {},
   "source": [
    "## What is a method?\n",
    "\n",
    "#### A function within a class is called a method."
   ]
  },
  {
   "cell_type": "code",
   "execution_count": 68,
   "metadata": {
    "collapsed": true
   },
   "outputs": [
    {
     "name": "stdout",
     "output_type": "stream",
     "text": [
      "Hey there, I am a method!\n"
     ]
    }
   ],
   "source": [
    "# Example of a method in class Particles\n",
    "class Particles:\n",
    "    \"\"\" This class now has a method that does something.\"\"\"\n",
    "    \n",
    "    def print_method(self):\n",
    "        \"\"\"This method prints a message when it's called.\"\"\"\n",
    "        message = \"Hey there, I am a method!\"\n",
    "        print message\n",
    "    \n",
    "        \n",
    "# calling this method from outside the class\n",
    "obj1 = Particles() # creating an instance of the class\n",
    "obj1.print_method() # notice I am not passing in any argument in the method"
   ]
  },
  {
   "cell_type": "markdown",
   "metadata": {},
   "source": [
    "## Exercise 2\n",
    "\n",
    "#### Can you call a method of the class without creating an instance of the class?"
   ]
  },
  {
   "cell_type": "code",
   "execution_count": null,
   "metadata": {},
   "outputs": [],
   "source": [
    "# Put your code for exercise 2 here."
   ]
  },
  {
   "cell_type": "markdown",
   "metadata": {},
   "source": [
    "## What is an attribute?\n",
    "#### An attribute represents an important feature/parameter associated with objects of the class. They can be of two types:\n",
    "\n",
    "#### 1. class attribute\n",
    "#### 2. instance attribute (has to be within a method!).\n",
    "\n",
    "Technically, it is a variable associated with objects of the class or the class itself."
   ]
  },
  {
   "cell_type": "code",
   "execution_count": 67,
   "metadata": {},
   "outputs": [
    {
     "data": {
      "text/plain": [
       "0"
      ]
     },
     "execution_count": 67,
     "metadata": {},
     "output_type": "execute_result"
    }
   ],
   "source": [
    "# Example of a class attribute\n",
    "class Particles:\n",
    "    \n",
    "    class_var1 = 0 # this is a class attribute\n",
    "    class_var2 = 0 # this is also a class attribute\n",
    "    \n",
    "    def print_method(self):\n",
    "        # self refers to an object instance within the class\n",
    "        # it is a convention but not a keyword\n",
    "        \"\"\"This method prints a message when it's called.\"\"\"\n",
    "        message = \"Hey there, I am a method!\"\n",
    "        print message\n",
    "    \n",
    "\n",
    "obj1 = Particles() # instantiation of the class \n",
    "\n",
    "obj1.class_var1 # accessing class attribute via object of class\n",
    "\n",
    "Particles.class_var1 # accessing class attribute via the class"
   ]
  },
  {
   "cell_type": "markdown",
   "metadata": {},
   "source": [
    "## Exercise 4\n",
    "#### Can you call a method of the class using:\n",
    "\n",
    "    Particles.print_method()"
   ]
  },
  {
   "cell_type": "code",
   "execution_count": null,
   "metadata": {},
   "outputs": [],
   "source": [
    "# Put code for Exercise 4 here."
   ]
  },
  {
   "cell_type": "markdown",
   "metadata": {},
   "source": [
    "###  Exercise 5 \n",
    "\n",
    "#### Can you change the value of a class attribute from outside the class by accessing it via a class object?"
   ]
  },
  {
   "cell_type": "code",
   "execution_count": null,
   "metadata": {},
   "outputs": [],
   "source": [
    "# Put your code Exercise 5 here."
   ]
  },
  {
   "cell_type": "markdown",
   "metadata": {},
   "source": [
    "###  Exercise 5 \n",
    "\n",
    "#### Create two class objects and change the class attribute via one of them, say, obj1.class_var1 =11.\n",
    "#### If you try to print the class variable by accessing it through the other object (obj2.class_var1), does it get affected?"
   ]
  },
  {
   "cell_type": "code",
   "execution_count": null,
   "metadata": {},
   "outputs": [],
   "source": [
    "# Put your code Exercise 5 here."
   ]
  },
  {
   "cell_type": "markdown",
   "metadata": {},
   "source": [
    " "
   ]
  }
 ],
 "metadata": {
  "kernelspec": {
   "display_name": "Python 2",
   "language": "python",
   "name": "python2"
  },
  "language_info": {
   "codemirror_mode": {
    "name": "ipython",
    "version": 2
   },
   "file_extension": ".py",
   "mimetype": "text/x-python",
   "name": "python",
   "nbconvert_exporter": "python",
   "pygments_lexer": "ipython2",
   "version": "2.7.14"
  }
 },
 "nbformat": 4,
 "nbformat_minor": 2
}
