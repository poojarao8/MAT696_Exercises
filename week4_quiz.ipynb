{
 "cells": [
  {
   "cell_type": "markdown",
   "metadata": {},
   "source": [
    "1) How to initialize git in your directory?\n",
    "\n",
    "    a. git init\n",
    "\n",
    "    b. git add\n",
    "\n",
    "    c. git commit"
   ]
  },
  {
   "cell_type": "markdown",
   "metadata": {},
   "source": [
    "2) What is another name for a directory?\n",
    "\n",
    "    a. folder\n",
    "\n",
    "    b. package"
   ]
  },
  {
   "cell_type": "markdown",
   "metadata": {},
   "source": [
    "3) When you use \"git init\" to initialize a git repo, you need to be:\n",
    "\n",
    "    a. inside that directory.\n",
    "\n",
    "    b. outside that directory."
   ]
  },
  {
   "cell_type": "markdown",
   "metadata": {},
   "source": [
    "4) How to check if git has been initialized in the directory? \n",
    "\n",
    "    a. use \"ls\" command in the directory\n",
    "\n",
    "    b. use \"ls -all\" command in the directory"
   ]
  },
  {
   "cell_type": "markdown",
   "metadata": {},
   "source": [
    "5) How often do you need to intialize git in your repo? \n",
    "\n",
    "    a. Every time I edit something. \n",
    "\n",
    "    b. Just once. \n",
    "\n",
    "    c. Every time I commit something. "
   ]
  },
  {
   "cell_type": "markdown",
   "metadata": {},
   "source": [
    "6) Assume you have successfully initialized git in your directory and have been making some changes to your \n",
    "files in that directory. What do you call call those changes?\n",
    "\n",
    "    a. edits\n",
    "\n",
    "    b. commits\n",
    "\n",
    "    c. staged edits"
   ]
  },
  {
   "cell_type": "markdown",
   "metadata": {},
   "source": [
    "7) What command do you use to stage your edits in git?\n",
    "\n",
    "    a. No command is needed, changed are automatically staged.\n",
    "\n",
    "    b. git init\n",
    "\n",
    "    c. git add\n",
    "\n",
    "    d. git commit"
   ]
  },
  {
   "cell_type": "markdown",
   "metadata": {},
   "source": [
    "8) What is the outcome of the command \"pwd\" in a directory?\n",
    "\n",
    "    a. it lists all the files in folder\n",
    "\n",
    "    b. it is used to copy files\n",
    "\n",
    "    c. it prints the present working directory"
   ]
  },
  {
   "cell_type": "markdown",
   "metadata": {},
   "source": [
    "9) What is the difference between a working copy and a local repo?\n",
    "\n",
    "    a. A working copy is just another unix name for a local repo.\n",
    "\n",
    "    b. A working copy is the repo on Github, while my desktop directory where git is initialized is \n",
    "       my local repo.\n",
    "   \n",
    "    c. A working copy may have staged or unstaged edits that have not been commited yet, while the local\n",
    "       repo only has commited changes.\n",
    "   \n",
    "    d. A working copy has no unstaged edits, while the repo local repo only has commited changes.    "
   ]
  },
  {
   "cell_type": "markdown",
   "metadata": {},
   "source": [
    "10) What file do you use to ignore files from git?\n",
    "\n",
    "    a. gitignore.txt\n",
    "    \n",
    "    b. .gitignore\n",
    "    \n",
    "    c. gitignore.git"
   ]
  },
  {
   "cell_type": "markdown",
   "metadata": {},
   "source": [
    "11) In order to clone a repo, do you need to be inside or outside that directory?\n",
    "\n",
    "    a. Inside\n",
    "    \n",
    "    b. Outside"
   ]
  },
  {
   "cell_type": "markdown",
   "metadata": {},
   "source": [
    "12) How do you get a copy of someone else's repo on your local machine?\n",
    "\n",
    "    a. git clone\n",
    "    \n",
    "    b. git clone git://github.com/user/repo.git \n",
    "    \n",
    "    c. git clone git://github.com/user/repo.git <mydirectoryname>\n",
    "    \n",
    "    d. Both 2 and 3"
   ]
  },
  {
   "cell_type": "markdown",
   "metadata": {},
   "source": [
    "13) What command is used to see all the staged and unstaged changes in your working directory?\n",
    "\n",
    "        a. git status\n",
    "    \n",
    "        b. git log\n",
    "        \n",
    "        c. git diff"
   ]
  },
  {
   "cell_type": "markdown",
   "metadata": {},
   "source": [
    "14) What command is used to see the all the commit log in your working directory?\n",
    "\n",
    "        a. git status\n",
    "    \n",
    "        b. git log\n",
    "        \n",
    "        c. git diff"
   ]
  },
  {
   "cell_type": "markdown",
   "metadata": {},
   "source": [
    "15) Hopper is a git newbie and she's overwhelmed by all the git commands, their functionality, syntax and order of usage. She knows she can conquer git if she can first get the basic workflow down, but she could use your help along the way!\n",
    "\n",
    "She's currently in her home directory. She intends to go to her directory called \"grace_hopper\", where she has three files namely, cobol.txt, compiler.txt and bug.txt. She is trying to initialize a git repo and then make some changes to the files cobol.txt and compiler.txt, and then commit those changes. But she doesn't remember any of the git commands! :(\n",
    "\n",
    "#### Suggest a workflow for her so she can achieve hear goals. \n",
    "\n",
    "#### Additionally, since you are super nice and careful, suggest ways/commands to:\n",
    "\n",
    "    a. make sure that git has been initialized successfully.\n",
    "    b. ignore the file debug.txt from being version controlled.\n",
    "    c. check the status of her edits.\n",
    "    d. explain to her what staging is.\n",
    "    e. check the status again after staging. \n",
    "    f. make sure that changes have indeed been committed after committing. \n",
    "    g. write a good commit message.\n",
    "    \n",
    "\n",
    "Note: For this exercise, you can ignore the exact syntax of the git command as long as you know what command to use."
   ]
  }
 ],
 "metadata": {
  "kernelspec": {
   "display_name": "Python 2",
   "language": "python",
   "name": "python2"
  },
  "language_info": {
   "codemirror_mode": {
    "name": "ipython",
    "version": 2
   },
   "file_extension": ".py",
   "mimetype": "text/x-python",
   "name": "python",
   "nbconvert_exporter": "python",
   "pygments_lexer": "ipython2",
   "version": "2.7.14"
  }
 },
 "nbformat": 4,
 "nbformat_minor": 2
}
