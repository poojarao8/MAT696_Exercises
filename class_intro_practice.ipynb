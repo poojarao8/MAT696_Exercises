{
 "cells": [
  {
   "cell_type": "markdown",
   "metadata": {},
   "source": [
    "What are classes?\n",
    "\n",
    "Sometimes the in-built data structures provided by the programming language are not the most convenient way to represent and manipulate the data. In that case, we may need a more customized data structures. \n",
    "\n",
    "Classes are user defined data structures that are constructed to suit the needs of a particular problem.They form the backbone of the object oriented programming (more to come later!). \n",
    "\n",
    "Basically, this is an alterantive way to structure your program. In this paradigm, the focus while writing the program is on an object, which has some data and functionality associated with it. \n",
    "\n",
    "Similar objects can be grouped together to form a class. Objects that are grouped together in a class share some characteristics (\"attributes\") and functionality (\"methods\")."
   ]
  },
  {
   "cell_type": "code",
   "execution_count": 2,
   "metadata": {},
   "outputs": [],
   "source": [
    "class Particles:\n",
    "    pass"
   ]
  },
  {
   "cell_type": "markdown",
   "metadata": {},
   "source": [
    "Naming convention for Python classes is UpperCamelCase.\n",
    "\n",
    "Do you remember the naming convention for the variables and functions in Python?"
   ]
  },
  {
   "cell_type": "markdown",
   "metadata": {},
   "source": [
    "What is an instance of a class?\n",
    "\n",
    "Think of class as being a template or a blueprint of something, and think of instantiation as a specific case (instance) of that class.\n",
    "\n",
    "For e.g. a mathjobs application profile is a template or a class in which you are supposed to fill out your details in different fields. After you have filled it out, it becomes an instance of the class."
   ]
  },
  {
   "cell_type": "markdown",
   "metadata": {},
   "source": [
    "How do I Instantiate a class?"
   ]
  },
  {
   "cell_type": "code",
   "execution_count": 3,
   "metadata": {},
   "outputs": [],
   "source": [
    "particle_0 = Particles()\n",
    "particle_1 = Particles()"
   ]
  },
  {
   "cell_type": "markdown",
   "metadata": {},
   "source": [
    "Exercise 1\n",
    "\n",
    "1a) Create a class which does nothing.\n",
    "\n",
    "1b) Create two objects of that class."
   ]
  },
  {
   "cell_type": "code",
   "execution_count": null,
   "metadata": {},
   "outputs": [],
   "source": []
  },
  {
   "cell_type": "markdown",
   "metadata": {},
   "source": [
    "Exercise 2\n",
    "\n",
    "2a) Change the above class so that it has a method called \"please_me\", which prints out the message \"I am a method!!\".\n",
    "\n",
    "2b) Create an instance of the above class and invoke the above method."
   ]
  },
  {
   "cell_type": "code",
   "execution_count": null,
   "metadata": {},
   "outputs": [],
   "source": []
  }
 ],
 "metadata": {
  "kernelspec": {
   "display_name": "Python 2",
   "language": "python",
   "name": "python2"
  },
  "language_info": {
   "codemirror_mode": {
    "name": "ipython",
    "version": 2
   },
   "file_extension": ".py",
   "mimetype": "text/x-python",
   "name": "python",
   "nbconvert_exporter": "python",
   "pygments_lexer": "ipython2",
   "version": "2.7.14"
  }
 },
 "nbformat": 4,
 "nbformat_minor": 2
}
